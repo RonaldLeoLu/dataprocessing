{
 "cells": [
  {
   "cell_type": "markdown",
   "metadata": {},
   "source": [
    "<font size=4>**数据预处理**</font>"
   ]
  },
  {
   "cell_type": "markdown",
   "metadata": {},
   "source": [
    "&emsp;&emsp;我们编写了脚本以实现数据预处理以及添加了拉普拉斯平滑的朴素贝叶斯分类器。样例数据来自word文档中的数据。与后续提供的adult数据集有所不同。脚本主要针对word文档的内容来编写。"
   ]
  },
  {
   "cell_type": "markdown",
   "metadata": {},
   "source": [
    "&emsp;&emsp;这里使用了jupyter notebook来作一个demo。建议下载Anaconda，对于数据分析十分有用。"
   ]
  },
  {
   "cell_type": "markdown",
   "metadata": {},
   "source": [
    "&emsp;&emsp;首先载入所需要的库。numpy是一个主要提供矩阵化和矩阵运算的库，有效提升运算速度。pandas主要为了数据读取等基本处理。preprocessing是我们自己编写的脚本，隶属于我们提供的scripts包中。其中载入后续我们需要的DataClean类。"
   ]
  },
  {
   "cell_type": "code",
   "execution_count": 1,
   "metadata": {
    "collapsed": false
   },
   "outputs": [],
   "source": [
    "import numpy as np\n",
    "import pandas as pd\n",
    "import re\n",
    "\n",
    "from scripts.preprocessing import DataClean"
   ]
  },
  {
   "cell_type": "markdown",
   "metadata": {},
   "source": [
    "&emsp;&emsp;载入样例数据。"
   ]
  },
  {
   "cell_type": "code",
   "execution_count": 2,
   "metadata": {
    "collapsed": false
   },
   "outputs": [
    {
     "data": {
      "text/html": [
       "<div>\n",
       "<table border=\"1\" class=\"dataframe\">\n",
       "  <thead>\n",
       "    <tr style=\"text-align: right;\">\n",
       "      <th></th>\n",
       "      <th>Id</th>\n",
       "      <th>House</th>\n",
       "      <th>Marriage</th>\n",
       "      <th>Income</th>\n",
       "      <th>Load</th>\n",
       "    </tr>\n",
       "  </thead>\n",
       "  <tbody>\n",
       "    <tr>\n",
       "      <th>0</th>\n",
       "      <td>1</td>\n",
       "      <td>是</td>\n",
       "      <td>单身</td>\n",
       "      <td>125K(123K,2)</td>\n",
       "      <td>No</td>\n",
       "    </tr>\n",
       "    <tr>\n",
       "      <th>1</th>\n",
       "      <td>2</td>\n",
       "      <td>否(是,2)</td>\n",
       "      <td>已婚</td>\n",
       "      <td>100K(100K,1)</td>\n",
       "      <td>No</td>\n",
       "    </tr>\n",
       "    <tr>\n",
       "      <th>2</th>\n",
       "      <td>3</td>\n",
       "      <td>否(是,2)</td>\n",
       "      <td>单身</td>\n",
       "      <td>70K(70K,2)</td>\n",
       "      <td>No</td>\n",
       "    </tr>\n",
       "    <tr>\n",
       "      <th>3</th>\n",
       "      <td>4</td>\n",
       "      <td>是(否,3)</td>\n",
       "      <td>已婚</td>\n",
       "      <td>120K(120K,1)</td>\n",
       "      <td>No</td>\n",
       "    </tr>\n",
       "    <tr>\n",
       "      <th>4</th>\n",
       "      <td>5</td>\n",
       "      <td>否(是,3)</td>\n",
       "      <td>离婚</td>\n",
       "      <td>95K(104K,1)</td>\n",
       "      <td>Yes</td>\n",
       "    </tr>\n",
       "    <tr>\n",
       "      <th>5</th>\n",
       "      <td>6</td>\n",
       "      <td>否</td>\n",
       "      <td>已婚</td>\n",
       "      <td>60K(60K,1)</td>\n",
       "      <td>No</td>\n",
       "    </tr>\n",
       "    <tr>\n",
       "      <th>6</th>\n",
       "      <td>7</td>\n",
       "      <td>是(否,2)</td>\n",
       "      <td>离婚</td>\n",
       "      <td>220K(220K,3)</td>\n",
       "      <td>No</td>\n",
       "    </tr>\n",
       "    <tr>\n",
       "      <th>7</th>\n",
       "      <td>8</td>\n",
       "      <td>否(是,3)</td>\n",
       "      <td>单身</td>\n",
       "      <td>85K(85K,1)</td>\n",
       "      <td>Yes</td>\n",
       "    </tr>\n",
       "    <tr>\n",
       "      <th>8</th>\n",
       "      <td>9</td>\n",
       "      <td>否</td>\n",
       "      <td>已婚</td>\n",
       "      <td>75K(90K,2)</td>\n",
       "      <td>No</td>\n",
       "    </tr>\n",
       "    <tr>\n",
       "      <th>9</th>\n",
       "      <td>10</td>\n",
       "      <td>否</td>\n",
       "      <td>单身</td>\n",
       "      <td>90K(90K,1)</td>\n",
       "      <td>Yes</td>\n",
       "    </tr>\n",
       "  </tbody>\n",
       "</table>\n",
       "</div>"
      ],
      "text/plain": [
       "   Id   House Marriage        Income Load\n",
       "0   1       是       单身  125K(123K,2)   No\n",
       "1   2  否(是,2)       已婚  100K(100K,1)   No\n",
       "2   3  否(是,2)       单身    70K(70K,2)   No\n",
       "3   4  是(否,3)       已婚  120K(120K,1)   No\n",
       "4   5  否(是,3)       离婚   95K(104K,1)  Yes\n",
       "5   6       否       已婚    60K(60K,1)   No\n",
       "6   7  是(否,2)       离婚  220K(220K,3)   No\n",
       "7   8  否(是,3)       单身    85K(85K,1)  Yes\n",
       "8   9       否       已婚    75K(90K,2)   No\n",
       "9  10       否       单身    90K(90K,1)  Yes"
      ]
     },
     "execution_count": 2,
     "metadata": {},
     "output_type": "execute_result"
    }
   ],
   "source": [
    "data = pd.read_csv('SampleData.csv',encoding='gbk')\n",
    "data.columns = ['Id','House','Marriage','Income','Load']\n",
    "data"
   ]
  },
  {
   "cell_type": "markdown",
   "metadata": {
    "collapsed": false
   },
   "source": [
    "&emsp;&emsp;下面使用DataClean类来处理样例数据。首先使用split方法进行采样以及划分训练集和测试集，该函数返回四个DataFrame，分别为训练集，测试集，训练集标签以及测试集标签。"
   ]
  },
  {
   "cell_type": "code",
   "execution_count": 3,
   "metadata": {
    "collapsed": false
   },
   "outputs": [
    {
     "name": "stdout",
     "output_type": "stream",
     "text": [
      "8 rows will be selected as sample set.\n",
      "------------------------------\n",
      "6 rows will be selected as train set.\n",
      "------------------------------\n"
     ]
    },
    {
     "data": {
      "text/html": [
       "<div>\n",
       "<table border=\"1\" class=\"dataframe\">\n",
       "  <thead>\n",
       "    <tr style=\"text-align: right;\">\n",
       "      <th></th>\n",
       "      <th>Id</th>\n",
       "      <th>House</th>\n",
       "      <th>Marriage</th>\n",
       "      <th>Income</th>\n",
       "    </tr>\n",
       "  </thead>\n",
       "  <tbody>\n",
       "    <tr>\n",
       "      <th>4</th>\n",
       "      <td>5</td>\n",
       "      <td>否(是,3)</td>\n",
       "      <td>离婚</td>\n",
       "      <td>95K(104K,1)</td>\n",
       "    </tr>\n",
       "    <tr>\n",
       "      <th>2</th>\n",
       "      <td>3</td>\n",
       "      <td>否(是,2)</td>\n",
       "      <td>单身</td>\n",
       "      <td>70K(70K,2)</td>\n",
       "    </tr>\n",
       "    <tr>\n",
       "      <th>7</th>\n",
       "      <td>8</td>\n",
       "      <td>否(是,3)</td>\n",
       "      <td>单身</td>\n",
       "      <td>85K(85K,1)</td>\n",
       "    </tr>\n",
       "    <tr>\n",
       "      <th>0</th>\n",
       "      <td>1</td>\n",
       "      <td>是</td>\n",
       "      <td>单身</td>\n",
       "      <td>125K(123K,2)</td>\n",
       "    </tr>\n",
       "    <tr>\n",
       "      <th>6</th>\n",
       "      <td>7</td>\n",
       "      <td>是(否,2)</td>\n",
       "      <td>离婚</td>\n",
       "      <td>220K(220K,3)</td>\n",
       "    </tr>\n",
       "    <tr>\n",
       "      <th>5</th>\n",
       "      <td>6</td>\n",
       "      <td>否</td>\n",
       "      <td>已婚</td>\n",
       "      <td>60K(60K,1)</td>\n",
       "    </tr>\n",
       "  </tbody>\n",
       "</table>\n",
       "</div>"
      ],
      "text/plain": [
       "   Id   House Marriage        Income\n",
       "4   5  否(是,3)       离婚   95K(104K,1)\n",
       "2   3  否(是,2)       单身    70K(70K,2)\n",
       "7   8  否(是,3)       单身    85K(85K,1)\n",
       "0   1       是       单身  125K(123K,2)\n",
       "6   7  是(否,2)       离婚  220K(220K,3)\n",
       "5   6       否       已婚    60K(60K,1)"
      ]
     },
     "execution_count": 3,
     "metadata": {},
     "output_type": "execute_result"
    }
   ],
   "source": [
    "model = DataClean()\n",
    "X_train,X_test,y_train,y_test = model.split(data, K=8, split_prob=0.2)\n",
    "X_train"
   ]
  },
  {
   "cell_type": "markdown",
   "metadata": {},
   "source": [
    "&emsp;&emsp;接下来使用DataClean类中的transform方法清洗训练集。"
   ]
  },
  {
   "cell_type": "code",
   "execution_count": 4,
   "metadata": {
    "collapsed": false
   },
   "outputs": [
    {
     "name": "stdout",
     "output_type": "stream",
     "text": [
      "Now Start Transformation!\n",
      "------------------------------\n"
     ]
    },
    {
     "data": {
      "text/html": [
       "<div>\n",
       "<table border=\"1\" class=\"dataframe\">\n",
       "  <thead>\n",
       "    <tr style=\"text-align: right;\">\n",
       "      <th></th>\n",
       "      <th>Id</th>\n",
       "      <th>House</th>\n",
       "      <th>Marriage</th>\n",
       "      <th>Income</th>\n",
       "    </tr>\n",
       "  </thead>\n",
       "  <tbody>\n",
       "    <tr>\n",
       "      <th>4</th>\n",
       "      <td>5</td>\n",
       "      <td>是</td>\n",
       "      <td>离婚</td>\n",
       "      <td>144.000000</td>\n",
       "    </tr>\n",
       "    <tr>\n",
       "      <th>2</th>\n",
       "      <td>3</td>\n",
       "      <td>是</td>\n",
       "      <td>单身</td>\n",
       "      <td>48.461538</td>\n",
       "    </tr>\n",
       "    <tr>\n",
       "      <th>7</th>\n",
       "      <td>8</td>\n",
       "      <td>是</td>\n",
       "      <td>单身</td>\n",
       "      <td>117.692308</td>\n",
       "    </tr>\n",
       "    <tr>\n",
       "      <th>0</th>\n",
       "      <td>1</td>\n",
       "      <td>是</td>\n",
       "      <td>单身</td>\n",
       "      <td>85.153846</td>\n",
       "    </tr>\n",
       "    <tr>\n",
       "      <th>6</th>\n",
       "      <td>7</td>\n",
       "      <td>否</td>\n",
       "      <td>离婚</td>\n",
       "      <td>101.538462</td>\n",
       "    </tr>\n",
       "    <tr>\n",
       "      <th>5</th>\n",
       "      <td>6</td>\n",
       "      <td>否</td>\n",
       "      <td>已婚</td>\n",
       "      <td>83.076923</td>\n",
       "    </tr>\n",
       "  </tbody>\n",
       "</table>\n",
       "</div>"
      ],
      "text/plain": [
       "   Id House Marriage      Income\n",
       "4   5     是       离婚  144.000000\n",
       "2   3     是       单身   48.461538\n",
       "7   8     是       单身  117.692308\n",
       "0   1     是       单身   85.153846\n",
       "6   7     否       离婚  101.538462\n",
       "5   6     否       已婚   83.076923"
      ]
     },
     "execution_count": 4,
     "metadata": {},
     "output_type": "execute_result"
    }
   ],
   "source": [
    "clean=model.transform(X_train)\n",
    "clean"
   ]
  },
  {
   "cell_type": "markdown",
   "metadata": {},
   "source": [
    "&emsp;&emsp;接下来使用贝叶斯分类器来对数据集进行预测。可以直接导入数据集。方法如下。（注释里的所用的是adult中的数据集，示例中所用的依旧是上文经过了处理的样例数据）"
   ]
  },
  {
   "cell_type": "code",
   "execution_count": 6,
   "metadata": {
    "collapsed": false
   },
   "outputs": [],
   "source": [
    "from scripts.naive_bayes import NBClassifier\n",
    "clf = NBClassifier()"
   ]
  }
 ],
 "metadata": {
  "anaconda-cloud": {},
  "kernelspec": {
   "display_name": "Python [conda root]",
   "language": "python",
   "name": "conda-root-py"
  },
  "language_info": {
   "codemirror_mode": {
    "name": "ipython",
    "version": 3
   },
   "file_extension": ".py",
   "mimetype": "text/x-python",
   "name": "python",
   "nbconvert_exporter": "python",
   "pygments_lexer": "ipython3",
   "version": "3.5.2"
  }
 },
 "nbformat": 4,
 "nbformat_minor": 1
}
